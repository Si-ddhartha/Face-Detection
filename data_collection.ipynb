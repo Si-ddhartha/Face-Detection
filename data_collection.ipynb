{
  "nbformat": 4,
  "nbformat_minor": 0,
  "metadata": {
    "colab": {
      "provenance": []
    },
    "kernelspec": {
      "name": "python3",
      "display_name": "Python 3"
    },
    "language_info": {
      "name": "python"
    }
  },
  "cells": [
    {
      "cell_type": "code",
      "execution_count": null,
      "metadata": {
        "id": "x41m_Ew7zSZB"
      },
      "outputs": [],
      "source": [
        "import os\n",
        "import time\n",
        "import uuid\n",
        "import cv2\n",
        "import numpy as np"
      ]
    },
    {
      "cell_type": "code",
      "source": [
        "IMAGES_PATH = os.path.join('data', 'images')\n",
        "num_images = 30"
      ],
      "metadata": {
        "id": "W0g9C1IyzhqA"
      },
      "execution_count": null,
      "outputs": []
    },
    {
      "cell_type": "markdown",
      "source": [
        "## 1) Image Capturing"
      ],
      "metadata": {
        "id": "TWrmznMqzl9x"
      }
    },
    {
      "cell_type": "markdown",
      "source": [
        "Collecting images through the webcam using opencv."
      ],
      "metadata": {
        "id": "8pnrwySM1xfO"
      }
    },
    {
      "cell_type": "code",
      "source": [
        "cap = cv2.VideoCapture(0)\n",
        "for num in range(num_images):\n",
        "    print(f\"Collecting Image {num}\")\n",
        "\n",
        "    ret, frame = cap.read()\n",
        "    img_name = os.path.join(IMAGES_PATH, f\"{str(uuid.uuid1())}.jpg\")\n",
        "    cv2.imwrite(img_name, frame)\n",
        "    cv2.imshow('frame', frame)\n",
        "\n",
        "    time.sleep(0.8)\n",
        "\n",
        "    if cv2.waitKey(1) & 0xFF == ord('q'):\n",
        "        break\n",
        "\n",
        "cap.release()\n",
        "cv2.destroyAllWindows()"
      ],
      "metadata": {
        "id": "bFUSoosUzkyp"
      },
      "execution_count": null,
      "outputs": []
    },
    {
      "cell_type": "markdown",
      "source": [
        "## 2) Labeled the images using 'labelme'"
      ],
      "metadata": {
        "id": "Ul67l8QF0ItD"
      }
    },
    {
      "cell_type": "markdown",
      "source": [
        "Drawing bounding boxes in each image and providing annotations using the 'labelme' tool."
      ],
      "metadata": {
        "id": "xLUXApSR2Tmf"
      }
    },
    {
      "cell_type": "markdown",
      "source": [
        "Save the annotations in a 'labels' folder."
      ],
      "metadata": {
        "id": "xzSdxQa14B6A"
      }
    },
    {
      "cell_type": "markdown",
      "source": [
        "## 3) Performed manual train-test-val split of collected images"
      ],
      "metadata": {
        "id": "F8uvhZdq0UIW"
      }
    },
    {
      "cell_type": "markdown",
      "source": [
        "Manually split the collected images into three different folders - train, test, and val."
      ],
      "metadata": {
        "id": "cZEICcDd3nX3"
      }
    },
    {
      "cell_type": "markdown",
      "source": [
        "## 4) Moving respective annotations to respective folders"
      ],
      "metadata": {
        "id": "0CFDOzwq0ddf"
      }
    },
    {
      "cell_type": "code",
      "source": [
        "for folder in ['train','test','val']:\n",
        "    for file in os.listdir(os.path.join('data', folder, 'images')):\n",
        "\n",
        "        filename = file.split('.')[0]+'.json'\n",
        "        existing_filepath = os.path.join('data','labels', filename)\n",
        "        if os.path.exists(existing_filepath):\n",
        "            new_filepath = os.path.join('data',folder,'labels',filename)\n",
        "            os.replace(existing_filepath, new_filepath)"
      ],
      "metadata": {
        "id": "zTTclCYSzyTT"
      },
      "execution_count": null,
      "outputs": []
    },
    {
      "cell_type": "markdown",
      "source": [
        "## 5) Image Augmentation"
      ],
      "metadata": {
        "id": "pmjIfWSC0obt"
      }
    },
    {
      "cell_type": "markdown",
      "source": [
        "We will use a Python library called **'albumentations'** to perform image augmentation."
      ],
      "metadata": {
        "id": "W1oB8O650tvj"
      }
    },
    {
      "cell_type": "code",
      "source": [
        "import albumentations as alb\n",
        "import json"
      ],
      "metadata": {
        "id": "98JSop2DzzDO"
      },
      "execution_count": null,
      "outputs": []
    },
    {
      "cell_type": "code",
      "source": [
        "augmentor = alb.Compose([alb.RandomCrop(width=450, height=450),\n",
        "                         alb.HorizontalFlip(p=0.5),\n",
        "                         alb.RandomBrightnessContrast(p=0.2),\n",
        "                         alb.RandomGamma(p=0.2),\n",
        "                         alb.RGBShift(p=0.2),\n",
        "                         alb.VerticalFlip(p=0.5)],\n",
        "                       bbox_params=alb.BboxParams(format='albumentations',\n",
        "                                                  label_fields=['class_labels']))\n"
      ],
      "metadata": {
        "id": "4GG2szP01Co-"
      },
      "execution_count": null,
      "outputs": []
    },
    {
      "cell_type": "code",
      "source": [
        "for partition in ['train','test','val']:\n",
        "    for image in os.listdir(os.path.join('data', partition, 'images')):\n",
        "        img = cv2.imread(os.path.join('data', partition, 'images', image))\n",
        "\n",
        "        label_path = os.path.join('data', partition, 'labels', f'{image.split(\".\")[0]}.json')\n",
        "        if os.path.exists(label_path):\n",
        "            with open(label_path, 'r') as f:\n",
        "                label = json.load(f)\n",
        "\n",
        "            points = label['shapes'][0]['points']\n",
        "            coords = [point for sub_list in points for point in sub_list]\n",
        "            coords = list(np.divide(coords, [640,480,640,480]))\n",
        "\n",
        "        try:\n",
        "            for x in range(60):\n",
        "                augmented = augmentor(image=img, bboxes=[coords], class_labels=['face'])\n",
        "                cv2.imwrite(os.path.join('aug_data', partition, 'images', f'{image.split(\".\")[0]}.{x}.jpg'), augmented['image'])\n",
        "\n",
        "                annotation = {}\n",
        "                annotation['image'] = image\n",
        "\n",
        "                if os.path.exists(label_path):\n",
        "                    if len(augmented['bboxes']) == 0:\n",
        "                        annotation['bbox'] = [0,0,0,0]\n",
        "                        annotation['class'] = 0\n",
        "                    else:\n",
        "                        annotation['bbox'] = augmented['bboxes'][0]\n",
        "                        annotation['class'] = 1\n",
        "                else:\n",
        "                    annotation['bbox'] = [0,0,0,0]\n",
        "                    annotation['class'] = 0\n",
        "\n",
        "\n",
        "                with open(os.path.join('aug_data', partition, 'labels', f'{image.split(\".\")[0]}.{x}.json'), 'w') as f:\n",
        "                    json.dump(annotation, f)\n",
        "\n",
        "        except Exception as e:\n",
        "            print(e)\n"
      ],
      "metadata": {
        "id": "F8tk_s_Q1J_d"
      },
      "execution_count": null,
      "outputs": []
    },
    {
      "cell_type": "code",
      "source": [],
      "metadata": {
        "id": "m7pL-4y_1Zpl"
      },
      "execution_count": null,
      "outputs": []
    }
  ]
}